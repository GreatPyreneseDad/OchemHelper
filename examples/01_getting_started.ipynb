{
 "cells": [
  {
   "cell_type": "markdown",
   "metadata": {},
   "source": [
    "# Getting Started with OChem Helper\n",
    "\n",
    "This notebook demonstrates basic usage of the OChem Helper molecular discovery platform."
   ]
  },
  {
   "cell_type": "code",
   "execution_count": null,
   "metadata": {},
   "outputs": [],
   "source": [
    "# Setup\n",
    "import sys\n",
    "sys.path.append('../src')\n",
    "\n",
    "# Import necessary modules\n",
    "from models.generative import MoleculeGenerator\n",
    "from models.predictive import PropertyPredictor\n",
    "from core.validators import MoleculeValidator\n",
    "from core.descriptors import MolecularDescriptors\n",
    "\n",
    "# For visualization\n",
    "from rdkit import Chem\n",
    "from rdkit.Chem import Draw\n",
    "import pandas as pd\n",
    "import matplotlib.pyplot as plt\n",
    "%matplotlib inline"
   ]
  },
  {
   "cell_type": "markdown",
   "metadata": {},
   "source": [
    "## 1. Molecule Generation\n",
    "\n",
    "Generate novel molecules using the trained VAE model."
   ]
  },
  {
   "cell_type": "code",
   "execution_count": null,
   "metadata": {},
   "outputs": [],
   "source": [
    "# Initialize molecule generator\n",
    "generator = MoleculeGenerator()\n",
    "\n",
    "# Generate molecules with no constraints\n",
    "molecules = generator.generate(n_molecules=10)\n",
    "print(f\"Generated {len(molecules)} molecules:\")\n",
    "for i, mol in enumerate(molecules[:5]):\n",
    "    print(f\"{i+1}. {mol}\")"
   ]
  },
  {
   "cell_type": "code",
   "execution_count": null,
   "metadata": {},
   "outputs": [],
   "source": [
    "# Visualize generated molecules\n",
    "mols = [Chem.MolFromSmiles(smi) for smi in molecules[:6] if Chem.MolFromSmiles(smi)]\n",
    "img = Draw.MolsToGridImage(mols, molsPerRow=3, subImgSize=(300, 300))\n",
    "img"
   ]
  },
  {
   "cell_type": "markdown",
   "metadata": {},
   "source": [
    "## 2. Targeted Generation\n",
    "\n",
    "Generate molecules with specific property constraints."
   ]
  },
  {
   "cell_type": "code",
   "execution_count": null,
   "metadata": {},
   "outputs": [],
   "source": [
    "# Generate drug-like molecules\n",
    "target_properties = {\n",
    "    'logP': [2.0, 4.0],      # Lipophilicity range\n",
    "    'MW': [250, 450],        # Molecular weight range\n",
    "    'TPSA': [40, 100]        # Polar surface area range\n",
    "}\n",
    "\n",
    "targeted_molecules = generator.generate(\n",
    "    n_molecules=10,\n",
    "    target_properties=target_properties\n",
    ")\n",
    "\n",
    "print(f\"Generated {len(targeted_molecules)} molecules with constraints\")"
   ]
  },
  {
   "cell_type": "markdown",
   "metadata": {},
   "source": [
    "## 3. Molecule Validation\n",
    "\n",
    "Validate generated molecules and check drug-likeness."
   ]
  },
  {
   "cell_type": "code",
   "execution_count": null,
   "metadata": {},
   "outputs": [],
   "source": [
    "# Initialize validator\n",
    "validator = MoleculeValidator()\n",
    "\n",
    "# Validate molecules\n",
    "validation_results = []\n",
    "\n",
    "for mol in molecules[:10]:\n",
    "    # Validate SMILES\n",
    "    validation = validator.validate_smiles(mol)\n",
    "    \n",
    "    if validation['valid']:\n",
    "        # Check drug-likeness\n",
    "        drug_like = validator.check_drug_likeness(mol)\n",
    "        \n",
    "        validation_results.append({\n",
    "            'smiles': mol,\n",
    "            'valid': validation['valid'],\n",
    "            'canonical': validation['canonical_smiles'],\n",
    "            'lipinski': drug_like['lipinski_compliant'],\n",
    "            'veber': drug_like['veber_compliant'],\n",
    "            'violations': ', '.join(drug_like['violations'])\n",
    "        })\n",
    "\n",
    "# Display results\n",
    "df = pd.DataFrame(validation_results)\n",
    "df"
   ]
  },
  {
   "cell_type": "markdown",
   "metadata": {},
   "source": [
    "## 4. Property Calculation\n",
    "\n",
    "Calculate molecular descriptors for the generated molecules."
   ]
  },
  {
   "cell_type": "code",
   "execution_count": null,
   "metadata": {},
   "outputs": [],
   "source": [
    "# Initialize descriptor calculator\n",
    "descriptor_calc = MolecularDescriptors()\n",
    "\n",
    "# Calculate descriptors for valid molecules\n",
    "descriptor_results = []\n",
    "\n",
    "for result in validation_results:\n",
    "    if result['valid']:\n",
    "        smiles = result['canonical']\n",
    "        descriptors = descriptor_calc.calculate(smiles)\n",
    "        \n",
    "        if descriptors:\n",
    "            descriptor_results.append({\n",
    "                'smiles': smiles,\n",
    "                **descriptors\n",
    "            })\n",
    "\n",
    "# Display as dataframe\n",
    "df_desc = pd.DataFrame(descriptor_results)\n",
    "df_desc.round(2)"
   ]
  },
  {
   "cell_type": "markdown",
   "metadata": {},
   "source": [
    "## 5. Property Distribution Analysis\n",
    "\n",
    "Analyze the distribution of molecular properties."
   ]
  },
  {
   "cell_type": "code",
   "execution_count": null,
   "metadata": {},
   "outputs": [],
   "source": [
    "# Plot property distributions\n",
    "if len(df_desc) > 0:\n",
    "    fig, axes = plt.subplots(2, 2, figsize=(12, 10))\n",
    "    \n",
    "    # Molecular weight distribution\n",
    "    axes[0, 0].hist(df_desc['molecular_weight'], bins=10, alpha=0.7, color='blue')\n",
    "    axes[0, 0].axvline(x=500, color='red', linestyle='--', label='Lipinski limit')\n",
    "    axes[0, 0].set_xlabel('Molecular Weight')\n",
    "    axes[0, 0].set_ylabel('Count')\n",
    "    axes[0, 0].set_title('Molecular Weight Distribution')\n",
    "    axes[0, 0].legend()\n",
    "    \n",
    "    # LogP distribution\n",
    "    axes[0, 1].hist(df_desc['logP'], bins=10, alpha=0.7, color='green')\n",
    "    axes[0, 1].axvline(x=5, color='red', linestyle='--', label='Lipinski limit')\n",
    "    axes[0, 1].set_xlabel('LogP')\n",
    "    axes[0, 1].set_ylabel('Count')\n",
    "    axes[0, 1].set_title('LogP Distribution')\n",
    "    axes[0, 1].legend()\n",
    "    \n",
    "    # TPSA distribution\n",
    "    axes[1, 0].hist(df_desc['tpsa'], bins=10, alpha=0.7, color='orange')\n",
    "    axes[1, 0].axvline(x=140, color='red', linestyle='--', label='Veber limit')\n",
    "    axes[1, 0].set_xlabel('TPSA')\n",
    "    axes[1, 0].set_ylabel('Count')\n",
    "    axes[1, 0].set_title('TPSA Distribution')\n",
    "    axes[1, 0].legend()\n",
    "    \n",
    "    # QED distribution\n",
    "    axes[1, 1].hist(df_desc['qed'], bins=10, alpha=0.7, color='purple')\n",
    "    axes[1, 1].set_xlabel('QED Score')\n",
    "    axes[1, 1].set_ylabel('Count')\n",
    "    axes[1, 1].set_title('QED Score Distribution')\n",
    "    \n",
    "    plt.tight_layout()\n",
    "    plt.show()"
   ]
  },
  {
   "cell_type": "markdown",
   "metadata": {},
   "source": [
    "## 6. Property Prediction\n",
    "\n",
    "Use the predictive model to estimate properties."
   ]
  },
  {
   "cell_type": "code",
   "execution_count": null,
   "metadata": {},
   "outputs": [],
   "source": [
    "# Initialize property predictor\n",
    "predictor = PropertyPredictor()\n",
    "\n",
    "# Predict properties for some known molecules\n",
    "test_molecules = ['CCO', 'CC(=O)O', 'c1ccccc1', 'CC(C)CC(=O)O']\n",
    "\n",
    "predictions = predictor.predict(test_molecules)\n",
    "\n",
    "# Display results\n",
    "if 'predictions' in predictions:\n",
    "    pred_df = pd.DataFrame({\n",
    "        'molecule': predictions['molecules'],\n",
    "        'prediction': predictions['predictions'],\n",
    "        'uncertainty': predictions['uncertainties']\n",
    "    })\n",
    "    print(\"Property Predictions:\")\n",
    "    print(pred_df)"
   ]
  },
  {
   "cell_type": "markdown",
   "metadata": {},
   "source": [
    "## 7. Molecular Filtering\n",
    "\n",
    "Filter molecules based on multiple criteria."
   ]
  },
  {
   "cell_type": "code",
   "execution_count": null,
   "metadata": {},
   "outputs": [],
   "source": [
    "# Define filtering criteria\n",
    "def filter_molecules(molecules, validator, descriptor_calc):\n",
    "    \"\"\"Filter molecules based on drug-likeness and property criteria.\"\"\"\n",
    "    filtered = []\n",
    "    \n",
    "    for mol in molecules:\n",
    "        # Validate SMILES\n",
    "        validation = validator.validate_smiles(mol)\n",
    "        if not validation['valid']:\n",
    "            continue\n",
    "        \n",
    "        # Check drug-likeness\n",
    "        drug_like = validator.check_drug_likeness(mol)\n",
    "        if not drug_like['lipinski_compliant']:\n",
    "            continue\n",
    "        \n",
    "        # Calculate descriptors\n",
    "        desc = descriptor_calc.calculate(mol)\n",
    "        if not desc:\n",
    "            continue\n",
    "        \n",
    "        # Apply additional filters\n",
    "        if (desc['molecular_weight'] < 500 and\n",
    "            desc['logP'] < 5 and\n",
    "            desc['qed'] > 0.5):\n",
    "            \n",
    "            filtered.append({\n",
    "                'smiles': validation['canonical_smiles'],\n",
    "                'MW': desc['molecular_weight'],\n",
    "                'logP': desc['logP'],\n",
    "                'QED': desc['qed']\n",
    "            })\n",
    "    \n",
    "    return filtered\n",
    "\n",
    "# Apply filtering\n",
    "filtered_molecules = filter_molecules(molecules, validator, descriptor_calc)\n",
    "print(f\"Filtered {len(filtered_molecules)} molecules from {len(molecules)} generated\")\n",
    "\n",
    "# Display filtered molecules\n",
    "if filtered_molecules:\n",
    "    filtered_df = pd.DataFrame(filtered_molecules)\n",
    "    filtered_df.round(2)"
   ]
  },
  {
   "cell_type": "markdown",
   "metadata": {},
   "source": [
    "## Summary\n",
    "\n",
    "In this notebook, we demonstrated:\n",
    "\n",
    "1. **Molecule Generation**: Creating novel molecules using the VAE model\n",
    "2. **Targeted Generation**: Generating molecules with specific property constraints\n",
    "3. **Validation**: Checking SMILES validity and drug-likeness rules\n",
    "4. **Property Calculation**: Computing molecular descriptors\n",
    "5. **Property Analysis**: Visualizing property distributions\n",
    "6. **Property Prediction**: Using ML models to predict properties\n",
    "7. **Filtering**: Selecting molecules based on multiple criteria\n",
    "\n",
    "Next steps:\n",
    "- Try different property constraints for targeted generation\n",
    "- Explore structure optimization (see notebook 02)\n",
    "- Learn about synthesis planning (see notebook 03)\n",
    "- Use the MCP server for AI integration (see notebook 04)"
   ]
  }
 ],
 "metadata": {
  "kernelspec": {
   "display_name": "Python 3",
   "language": "python",
   "name": "python3"
  },
  "language_info": {
   "codemirror_mode": {
    "name": "ipython",
    "version": 3
   },
   "file_extension": ".py",
   "mimetype": "text/x-python",
   "name": "python",
   "nbconvert_exporter": "python",
   "pygments_lexer": "ipython3",
   "version": "3.9.0"
  }
 },
 "nbformat": 4,
 "nbformat_minor": 4
}