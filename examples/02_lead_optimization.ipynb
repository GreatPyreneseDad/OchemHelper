{
 "cells": [
  {
   "cell_type": "markdown",
   "metadata": {},
   "source": [
    "# Lead Optimization with OChem Helper\n",
    "\n",
    "This notebook demonstrates how to optimize lead compounds using the OChem Helper platform."
   ]
  },
  {
   "cell_type": "code",
   "execution_count": null,
   "metadata": {},
   "outputs": [],
   "source": [
    "# Setup\n",
    "import sys\n",
    "sys.path.append('../src')\n",
    "sys.path.append('../mcp')\n",
    "\n",
    "import asyncio\n",
    "import pandas as pd\n",
    "import matplotlib.pyplot as plt\n",
    "import seaborn as sns\n",
    "from rdkit import Chem\n",
    "from rdkit.Chem import Draw\n",
    "\n",
    "# Import optimization tools\n",
    "from tools.optimize_structure import optimize_lead, generate_analogs\n",
    "from core.descriptors import MolecularDescriptors\n",
    "from core.validators import MoleculeValidator\n",
    "\n",
    "# Set up async environment for Jupyter\n",
    "import nest_asyncio\n",
    "nest_asyncio.apply()\n",
    "\n",
    "%matplotlib inline"
   ]
  },
  {
   "cell_type": "markdown",
   "metadata": {},
   "source": [
    "## 1. Define Lead Compound and Optimization Goals\n",
    "\n",
    "Let's start with a known drug as our lead compound and define optimization goals."
   ]
  },
  {
   "cell_type": "code",
   "execution_count": null,
   "metadata": {},
   "outputs": [],
   "source": [
    "# Define lead compound (Ibuprofen as example)\n",
    "lead_smiles = \"CC(C)Cc1ccc(cc1)C(C)C(=O)O\"\n",
    "\n",
    "# Visualize lead compound\n",
    "lead_mol = Chem.MolFromSmiles(lead_smiles)\n",
    "Draw.MolToImage(lead_mol, size=(400, 300))"
   ]
  },
  {
   "cell_type": "code",
   "execution_count": null,
   "metadata": {},
   "outputs": [],
   "source": [
    "# Calculate current properties\n",
    "descriptor_calc = MolecularDescriptors()\n",
    "lead_properties = descriptor_calc.calculate(lead_smiles)\n",
    "\n",
    "print(\"Lead Compound Properties:\")\n",
    "for prop, value in lead_properties.items():\n",
    "    print(f\"{prop}: {value:.2f}\" if isinstance(value, float) else f\"{prop}: {value}\")"
   ]
  },
  {
   "cell_type": "markdown",
   "metadata": {},
   "source": [
    "## 2. Lead Optimization\n",
    "\n",
    "Optimize the lead compound with specific property goals."
   ]
  },
  {
   "cell_type": "code",
   "execution_count": null,
   "metadata": {},
   "outputs": [],
   "source": [
    "# Define optimization goals\n",
    "optimization_goals = {\n",
    "    'logP': [2.0, 3.5],      # Reduce lipophilicity\n",
    "    'MW': [180, 250],        # Keep molecular weight in range\n",
    "    'TPSA': [40, 60],        # Optimize polar surface area\n",
    "    'HBD': [1, 2],           # Maintain H-bond donors\n",
    "    'QED': 0.7               # Improve drug-likeness\n",
    "}\n",
    "\n",
    "# Run optimization\n",
    "print(\"Running lead optimization...\")\n",
    "optimization_results = await optimize_lead(\n",
    "    lead_smiles=lead_smiles,\n",
    "    optimization_goals=optimization_goals,\n",
    "    maintain_scaffold=True  # Keep core structure\n",
    ")"
   ]
  },
  {
   "cell_type": "code",
   "execution_count": null,
   "metadata": {},
   "outputs": [],
   "source": [
    "# Display optimization strategy\n",
    "if 'optimization_strategy' in optimization_results:\n",
    "    print(\"Optimization Strategy:\")\n",
    "    strategy = optimization_results['optimization_strategy']\n",
    "    \n",
    "    print(\"\\nPrimary Objectives:\")\n",
    "    for obj in strategy.get('primary_objectives', []):\n",
    "        print(f\"  • {obj}\")\n",
    "    \n",
    "    print(\"\\nSuggested Modifications:\")\n",
    "    for mod in strategy.get('suggested_modifications', []):\n",
    "        print(f\"  • {mod}\")"
   ]
  },
  {
   "cell_type": "markdown",
   "metadata": {},
   "source": [
    "## 3. Analyze Optimized Molecules\n",
    "\n",
    "Examine the top optimized molecules and their properties."
   ]
  },
  {
   "cell_type": "code",
   "execution_count": null,
   "metadata": {},
   "outputs": [],
   "source": [
    "# Extract top optimized molecules\n",
    "if 'optimized_molecules' in optimization_results:\n",
    "    optimized_mols = optimization_results['optimized_molecules'][:10]  # Top 10\n",
    "    \n",
    "    # Create dataframe for analysis\n",
    "    opt_data = []\n",
    "    for mol_data in optimized_mols:\n",
    "        props = mol_data['properties']\n",
    "        opt_data.append({\n",
    "            'Rank': mol_data['rank'],\n",
    "            'SMILES': mol_data['smiles'],\n",
    "            'Score': mol_data['score'],\n",
    "            'MW': props['MW'],\n",
    "            'logP': props['logP'],\n",
    "            'TPSA': props['TPSA'],\n",
    "            'QED': props['QED'],\n",
    "            'Similarity': mol_data['similarity']\n",
    "        })\n",
    "    \n",
    "    df_optimized = pd.DataFrame(opt_data)\n",
    "    df_optimized"
   ]
  },
  {
   "cell_type": "code",
   "execution_count": null,
   "metadata": {},
   "outputs": [],
   "source": [
    "# Visualize top optimized molecules\n",
    "if 'optimized_molecules' in optimization_results:\n",
    "    top_6_mols = []\n",
    "    top_6_labels = []\n",
    "    \n",
    "    for i, mol_data in enumerate(optimized_mols[:6]):\n",
    "        mol = Chem.MolFromSmiles(mol_data['smiles'])\n",
    "        if mol:\n",
    "            top_6_mols.append(mol)\n",
    "            top_6_labels.append(f\"Rank {mol_data['rank']}\\nScore: {mol_data['score']:.2f}\")\n",
    "    \n",
    "    if top_6_mols:\n",
    "        img = Draw.MolsToGridImage(\n",
    "            top_6_mols, \n",
    "            molsPerRow=3, \n",
    "            subImgSize=(350, 300),\n",
    "            legends=top_6_labels\n",
    "        )\n",
    "        img"
   ]
  },
  {
   "cell_type": "markdown",
   "metadata": {},
   "source": [
    "## 4. Property Comparison\n",
    "\n",
    "Compare properties between lead and optimized molecules."
   ]
  },
  {
   "cell_type": "code",
   "execution_count": null,
   "metadata": {},
   "outputs": [],
   "source": [
    "# Create property comparison plot\n",
    "if len(df_optimized) > 0:\n",
    "    fig, axes = plt.subplots(2, 2, figsize=(12, 10))\n",
    "    \n",
    "    # MW comparison\n",
    "    axes[0, 0].scatter(df_optimized['Rank'], df_optimized['MW'], alpha=0.6)\n",
    "    axes[0, 0].axhline(y=lead_properties['molecular_weight'], color='red', \n",
    "                       linestyle='--', label='Lead')\n",
    "    axes[0, 0].axhspan(optimization_goals['MW'][0], optimization_goals['MW'][1], \n",
    "                       alpha=0.2, color='green', label='Target')\n",
    "    axes[0, 0].set_xlabel('Rank')\n",
    "    axes[0, 0].set_ylabel('Molecular Weight')\n",
    "    axes[0, 0].set_title('Molecular Weight Optimization')\n",
    "    axes[0, 0].legend()\n",
    "    \n",
    "    # LogP comparison\n",
    "    axes[0, 1].scatter(df_optimized['Rank'], df_optimized['logP'], alpha=0.6)\n",
    "    axes[0, 1].axhline(y=lead_properties['logP'], color='red', \n",
    "                       linestyle='--', label='Lead')\n",
    "    axes[0, 1].axhspan(optimization_goals['logP'][0], optimization_goals['logP'][1], \n",
    "                       alpha=0.2, color='green', label='Target')\n",
    "    axes[0, 1].set_xlabel('Rank')\n",
    "    axes[0, 1].set_ylabel('LogP')\n",
    "    axes[0, 1].set_title('LogP Optimization')\n",
    "    axes[0, 1].legend()\n",
    "    \n",
    "    # QED comparison\n",
    "    axes[1, 0].scatter(df_optimized['Rank'], df_optimized['QED'], alpha=0.6)\n",
    "    axes[1, 0].axhline(y=lead_properties['qed'], color='red', \n",
    "                       linestyle='--', label='Lead')\n",
    "    axes[1, 0].axhline(y=optimization_goals['QED'], color='green', \n",
    "                       linestyle=':', label='Target')\n",
    "    axes[1, 0].set_xlabel('Rank')\n",
    "    axes[1, 0].set_ylabel('QED Score')\n",
    "    axes[1, 0].set_title('QED Score Optimization')\n",
    "    axes[1, 0].legend()\n",
    "    \n",
    "    # Similarity vs Score\n",
    "    axes[1, 1].scatter(df_optimized['Similarity'], df_optimized['Score'], alpha=0.6)\n",
    "    axes[1, 1].set_xlabel('Similarity to Lead')\n",
    "    axes[1, 1].set_ylabel('Optimization Score')\n",
    "    axes[1, 1].set_title('Similarity vs Optimization Score')\n",
    "    \n",
    "    plt.tight_layout()\n",
    "    plt.show()"
   ]
  },
  {
   "cell_type": "markdown",
   "metadata": {},
   "source": [
    "## 5. Generate Analogs\n",
    "\n",
    "Generate structural analogs without specific optimization goals."
   ]
  },
  {
   "cell_type": "code",
   "execution_count": null,
   "metadata": {},
   "outputs": [],
   "source": [
    "# Generate analogs\n",
    "analog_results = await generate_analogs(\n",
    "    reference_smiles=lead_smiles,\n",
    "    num_analogs=10,\n",
    "    similarity_threshold=0.7\n",
    ")\n",
    "\n",
    "print(f\"Generated {len(analog_results.get('analogs', []))} analogs\")\n",
    "print(f\"Core scaffold: {analog_results.get('scaffold', 'N/A')}\")"
   ]
  },
  {
   "cell_type": "code",
   "execution_count": null,
   "metadata": {},
   "outputs": [],
   "source": [
    "# Visualize analogs\n",
    "if 'analogs' in analog_results:\n",
    "    analog_mols = []\n",
    "    analog_labels = []\n",
    "    \n",
    "    for analog in analog_results['analogs'][:6]:\n",
    "        mol = Chem.MolFromSmiles(analog['smiles'])\n",
    "        if mol:\n",
    "            analog_mols.append(mol)\n",
    "            analog_labels.append(f\"Sim: {analog['similarity']:.2f}\")\n",
    "    \n",
    "    if analog_mols:\n",
    "        img = Draw.MolsToGridImage(\n",
    "            analog_mols,\n",
    "            molsPerRow=3,\n",
    "            subImgSize=(350, 300),\n",
    "            legends=analog_labels\n",
    "        )\n",
    "        img"
   ]
  },
  {
   "cell_type": "markdown",
   "metadata": {},
   "source": [
    "## 6. Multi-Parameter Optimization Analysis\n",
    "\n",
    "Analyze how well the optimization achieved multiple goals simultaneously."
   ]
  },
  {
   "cell_type": "code",
   "execution_count": null,
   "metadata": {},
   "outputs": [],
   "source": [
    "# Calculate goal achievement for each molecule\n",
    "if len(df_optimized) > 0:\n",
    "    goal_achievement = []\n",
    "    \n",
    "    for _, row in df_optimized.iterrows():\n",
    "        achieved = 0\n",
    "        total = 0\n",
    "        \n",
    "        # Check MW goal\n",
    "        if optimization_goals['MW'][0] <= row['MW'] <= optimization_goals['MW'][1]:\n",
    "            achieved += 1\n",
    "        total += 1\n",
    "        \n",
    "        # Check logP goal\n",
    "        if optimization_goals['logP'][0] <= row['logP'] <= optimization_goals['logP'][1]:\n",
    "            achieved += 1\n",
    "        total += 1\n",
    "        \n",
    "        # Check QED goal\n",
    "        if row['QED'] >= optimization_goals['QED']:\n",
    "            achieved += 1\n",
    "        total += 1\n",
    "        \n",
    "        goal_achievement.append(achieved / total * 100)\n",
    "    \n",
    "    df_optimized['Goal Achievement %'] = goal_achievement\n",
    "    \n",
    "    # Plot goal achievement\n",
    "    plt.figure(figsize=(10, 6))\n",
    "    plt.bar(df_optimized['Rank'], df_optimized['Goal Achievement %'], alpha=0.7)\n",
    "    plt.xlabel('Molecule Rank')\n",
    "    plt.ylabel('Goal Achievement (%)')\n",
    "    plt.title('Multi-Parameter Optimization Success')\n",
    "    plt.ylim(0, 100)\n",
    "    plt.grid(axis='y', alpha=0.3)\n",
    "    plt.show()"
   ]
  },
  {
   "cell_type": "markdown",
   "metadata": {},
   "source": [
    "## 7. Select Best Candidates\n",
    "\n",
    "Select the best optimized molecules based on multiple criteria."
   ]
  },
  {
   "cell_type": "code",
   "execution_count": null,
   "metadata": {},
   "outputs": [],
   "source": [
    "# Filter for best candidates\n",
    "if len(df_optimized) > 0:\n",
    "    best_candidates = df_optimized[\n",
    "        (df_optimized['Goal Achievement %'] >= 66) &  # At least 2/3 goals met\n",
    "        (df_optimized['Similarity'] >= 0.6) &         # Maintain similarity\n",
    "        (df_optimized['QED'] >= 0.6)                  # Good drug-likeness\n",
    "    ]\n",
    "    \n",
    "    print(f\"Found {len(best_candidates)} best candidates:\")\n",
    "    \n",
    "    if len(best_candidates) > 0:\n",
    "        # Visualize best candidates\n",
    "        best_mols = []\n",
    "        best_labels = []\n",
    "        \n",
    "        for _, row in best_candidates.iterrows():\n",
    "            mol = Chem.MolFromSmiles(row['SMILES'])\n",
    "            if mol:\n",
    "                best_mols.append(mol)\n",
    "                best_labels.append(\n",
    "                    f\"Rank {row['Rank']}\\n\"\n",
    "                    f\"Score: {row['Score']:.2f}\\n\"\n",
    "                    f\"Goals: {row['Goal Achievement %']:.0f}%\"\n",
    "                )\n",
    "        \n",
    "        if best_mols:\n",
    "            img = Draw.MolsToGridImage(\n",
    "                best_mols,\n",
    "                molsPerRow=3,\n",
    "                subImgSize=(400, 350),\n",
    "                legends=best_labels\n",
    "            )\n",
    "            img"
   ]
  },
  {
   "cell_type": "markdown",
   "metadata": {},
   "source": [
    "## 8. Export Results\n",
    "\n",
    "Export the optimization results for further analysis."
   ]
  },
  {
   "cell_type": "code",
   "execution_count": null,
   "metadata": {},
   "outputs": [],
   "source": [
    "# Save results to CSV\n",
    "if len(df_optimized) > 0:\n",
    "    # Add additional columns\n",
    "    df_export = df_optimized.copy()\n",
    "    df_export['Lead_SMILES'] = lead_smiles\n",
    "    df_export['Optimization_Date'] = pd.Timestamp.now().strftime('%Y-%m-%d')\n",
    "    \n",
    "    # Save to file\n",
    "    output_file = 'lead_optimization_results.csv'\n",
    "    df_export.to_csv(output_file, index=False)\n",
    "    print(f\"Results saved to {output_file}\")\n",
    "    \n",
    "    # Display summary statistics\n",
    "    print(\"\\nOptimization Summary:\")\n",
    "    print(f\"Total molecules generated: {len(df_optimized)}\")\n",
    "    print(f\"Molecules meeting all goals: {len(df_optimized[df_optimized['Goal Achievement %'] == 100])}\")\n",
    "    print(f\"Average similarity to lead: {df_optimized['Similarity'].mean():.3f}\")\n",
    "    print(f\"Best QED score: {df_optimized['QED'].max():.3f}\")"
   ]
  },
  {
   "cell_type": "markdown",
   "metadata": {},
   "source": [
    "## Summary\n",
    "\n",
    "In this notebook, we demonstrated:\n",
    "\n",
    "1. **Lead Definition**: Starting with a known compound (Ibuprofen)\n",
    "2. **Goal Setting**: Defining multi-parameter optimization objectives\n",
    "3. **Optimization**: Generating optimized molecules maintaining the core scaffold\n",
    "4. **Analysis**: Comparing properties and evaluating goal achievement\n",
    "5. **Analog Generation**: Creating structural analogs for SAR exploration\n",
    "6. **Candidate Selection**: Identifying the best molecules based on multiple criteria\n",
    "7. **Export**: Saving results for further development\n",
    "\n",
    "Key insights:\n",
    "- Multi-parameter optimization requires balancing competing objectives\n",
    "- Maintaining scaffold similarity helps preserve desired activity\n",
    "- QED score is a useful metric for overall drug-likeness\n",
    "- Not all generated molecules will meet all criteria - filtering is essential\n",
    "\n",
    "Next steps:\n",
    "- Synthesize and test the best candidates\n",
    "- Perform ADMET predictions (see notebook 03)\n",
    "- Plan synthesis routes (see notebook 04)\n",
    "- Use iterative optimization based on experimental results"
   ]
  }
 ],
 "metadata": {
  "kernelspec": {
   "display_name": "Python 3",
   "language": "python",
   "name": "python3"
  },
  "language_info": {
   "codemirror_mode": {
    "name": "ipython",
    "version": 3
   },
   "file_extension": ".py",
   "mimetype": "text/x-python",
   "name": "python",
   "nbconvert_exporter": "python",
   "pygments_lexer": "ipython3",
   "version": "3.9.0"
  }
 },
 "nbformat": 4,
 "nbformat_minor": 4
}